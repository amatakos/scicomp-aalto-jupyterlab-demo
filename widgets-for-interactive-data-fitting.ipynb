{
 "cells": [
  {
   "cell_type": "code",
   "execution_count": 1,
   "id": "47ce67a6-d33f-496e-a597-017fc6ec8f20",
   "metadata": {},
   "outputs": [],
   "source": [
    "import numpy as np \n",
    "from ipywidgets import interact\n",
    "import matplotlib.pyplot as plt\n",
    "%matplotlib inline"
   ]
  },
  {
   "cell_type": "code",
   "execution_count": 2,
   "id": "f12a5b83-b1a6-46bb-9bd4-a031e51093e9",
   "metadata": {},
   "outputs": [],
   "source": [
    "def gaussian(x, a, b, c):\n",
    "    return a*np.exp(-b*(x-c)**2)"
   ]
  },
  {
   "cell_type": "code",
   "execution_count": 3,
   "id": "40f1a8e2-bb40-43e4-a419-08e51090e384",
   "metadata": {},
   "outputs": [],
   "source": [
    "def noisy_gaussian():\n",
    "    nx = 100\n",
    "    x = np.linspace(-5.0, 5.0, nx)\n",
    "    y = gaussian(x, a=2.0, b=0.5, c=1.5)\n",
    "    noise = np.random.normal(0.0, 0.2, nx)\n",
    "    y += noise\n",
    "    return x, y"
   ]
  },
  {
   "cell_type": "code",
   "execution_count": 4,
   "id": "203e35b6-bdac-4f8a-b5b4-e9b7af40d2f4",
   "metadata": {},
   "outputs": [],
   "source": [
    "def fit(x, y, n):\n",
    "    pfit = np.polyfit(x, y, n)\n",
    "    yfit = np.polyval(pfit, x)\n",
    "    return yfit"
   ]
  },
  {
   "cell_type": "code",
   "execution_count": 5,
   "id": "42bc4279-ad06-4fb2-8c6c-ce64e019f286",
   "metadata": {},
   "outputs": [],
   "source": [
    "def plot(x, y, yfit):\n",
    "    plt.plot(x, y, \"r\", label=\"Data\")\n",
    "    plt.plot(x, yfit, \"b\", label=\"Fit\")\n",
    "    plt.legend()\n",
    "    plt.ylim(-0.5, 2.5)\n",
    "    plt.show()"
   ]
  },
  {
   "cell_type": "code",
   "execution_count": 7,
   "id": "af34ba32-b52a-4600-88c5-1d165dd0abc8",
   "metadata": {},
   "outputs": [],
   "source": [
    "x, y = noisy_gaussian()"
   ]
  },
  {
   "cell_type": "code",
   "execution_count": 9,
   "id": "38ab318b-a39c-45a3-b206-e748fd7d15af",
   "metadata": {},
   "outputs": [
    {
     "data": {
      "application/vnd.jupyter.widget-view+json": {
       "model_id": "9a9688588e7f4858a43ff6e3041b3e99",
       "version_major": 2,
       "version_minor": 0
      },
      "text/plain": [
       "interactive(children=(IntSlider(value=15, description='n', max=30, min=1), Output()), _dom_classes=('widget-in…"
      ]
     },
     "metadata": {},
     "output_type": "display_data"
    }
   ],
   "source": [
    "@interact\n",
    "def slider(n=(1, 30)):\n",
    "    yfit = fit(x, y, n)\n",
    "    plot(x, y, yfit)"
   ]
  }
 ],
 "metadata": {
  "kernelspec": {
   "display_name": "Python 3 (ipykernel)",
   "language": "python",
   "name": "python3"
  },
  "language_info": {
   "codemirror_mode": {
    "name": "ipython",
    "version": 3
   },
   "file_extension": ".py",
   "mimetype": "text/x-python",
   "name": "python",
   "nbconvert_exporter": "python",
   "pygments_lexer": "ipython3",
   "version": "3.9.6"
  }
 },
 "nbformat": 4,
 "nbformat_minor": 5
}
